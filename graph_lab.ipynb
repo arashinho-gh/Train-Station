{
 "cells": [
  {
   "cell_type": "markdown",
   "id": "2d65a8a5-860e-41d8-ac27-fabb65da8243",
   "metadata": {},
   "source": [
    "# Graph Lab"
   ]
  },
  {
   "cell_type": "markdown",
   "id": "0287692e-0294-4c54-8ad3-c8d8425ab85c",
   "metadata": {
    "tags": []
   },
   "source": [
    "## Header information:\n",
    "\n",
    "  - Author #1: Jad Kharboutly (kharbouj@mcmaster.ca)\n",
    "  - Author #2: Arash Ghafoori (ghafoa@mcmaster.ca)\n",
    "  - Gitlab URL: http://gitlab.cas.mcmaster.ca/...\n",
    "  - Avenue to Learn group name: "
   ]
  },
  {
   "cell_type": "code",
   "execution_count": 35,
   "id": "bcf155be-8ed8-4c0a-a27b-742e8bcdb35f",
   "metadata": {},
   "outputs": [],
   "source": [
    "### Graph Initialization ###"
   ]
  },
  {
   "cell_type": "code",
   "execution_count": 21,
   "id": "a5576eed-3a44-4299-b1c5-797ca13de3bb",
   "metadata": {},
   "outputs": [],
   "source": [
    "from GraphBuilder import GraphBuilder\n",
    "from MetricsExtractor import Metrics_Extractor\n",
    "\n",
    "stations_attr, stations = Metrics_Extractor('./_dataset/london.stations.csv').metrics\n",
    "connections_attr, connections = Metrics_Extractor('./_dataset/london.connections.csv').metrics\n",
    "\n",
    "graph = GraphBuilder(stations, connections)"
   ]
  },
  {
   "cell_type": "code",
   "execution_count": 36,
   "id": "f1b705ca-46c3-46c2-997a-81aa386d09a3",
   "metadata": {},
   "outputs": [],
   "source": [
    "### Graph Metrics ###"
   ]
  },
  {
   "cell_type": "code",
   "execution_count": 4,
   "id": "695e8744-8d2e-4f51-aa31-ba403acb2ff5",
   "metadata": {},
   "outputs": [
    {
     "name": "stdout",
     "output_type": "stream",
     "text": [
      "Number of nodes (aka. stations):  302\n",
      "Number of edges (aka. connections):  406\n",
      "Average node degree 1.3443708609271523\n"
     ]
    }
   ],
   "source": [
    "print(\"Number of nodes (aka. stations): \", graph.getNumberOfNodes())\n",
    "print(\"Number of edges (aka. connections): \", graph.getNumberOfEdges())\n",
    "print(\"Average node degree\", graph.getAverageNodeDegree())"
   ]
  },
  {
   "cell_type": "code",
   "execution_count": 22,
   "id": "d6281ebf-6f2b-406f-a11b-91206fe73df9",
   "metadata": {
    "tags": []
   },
   "outputs": [
    {
     "data": {
      "image/png": "[encoded data removed]",
      "text/plain": [
       "<Figure size 640x480 with 1 Axes>"
      ]
     },
     "metadata": {},
     "output_type": "display_data"
    }
   ],
   "source": [
    "import matplotlib.pyplot as plt\n",
    "\n",
    "data = {}\n",
    "\n",
    "for node, neighbors in graph.adj_list.items():\n",
    "    degree = 0\n",
    "    for neighbors, time in neighbors.items():\n",
    "        for time, neighbor in time.items():\n",
    "            for neighbor, lines in neighbor.items():\n",
    "                degree += len(lines)\n",
    "                \n",
    "    data[degree] = data.get(degree, 0) + 1\n",
    "\n",
    "x, y = sorted(data.keys()), []\n",
    "\n",
    "for num in x:\n",
    "    y.append(data[num])\n",
    "    \n",
    "plt.plot(x, y)\n",
    "plt.xlabel(\"Node Degree\")\n",
    "plt.ylabel(\"Number of Nodes\")\n",
    "\n",
    "plt.show()"
   ]
  },
  {
   "cell_type": "markdown",
   "id": "62e442ba-5c2a-4ba6-902a-308ef375e38d",
   "metadata": {},
   "source": [
    "# Design Choices:"
   ]
  },
  {
   "cell_type": "markdown",
   "id": "8958c1ac-c8e3-45f4-97f9-ea0f27b05df9",
   "metadata": {},
   "source": [
    "Why is it undirected?"
   ]
  },
  {
   "cell_type": "markdown",
   "id": "a0856f66-6423-465c-9ad5-21f70d6a7a47",
   "metadata": {},
   "source": [
    "## Why an Adjacency List?"
   ]
  },
  {
   "cell_type": "markdown",
   "id": "a89d517a-d4b4-4afc-b2c9-dfed8131f45a",
   "metadata": {},
   "source": [
    "#### Adjacency Matrix"
   ]
  },
  {
   "cell_type": "markdown",
   "id": "1a304300-6671-4bc1-8173-6c73b7fff6e4",
   "metadata": {},
   "source": [
    "An adjacency matrix can be represented as a 2-D array where the rows and columns represent the nodes $n$, therefore it will have a size of $n^{2}$. If an edge exists between the row and the column then the cell will have a value of $1$ or if it's weight if it is an edge-weighted graph, otherwise it will have a value of $0$. We can check if there's a connection between two nodes is $O(1)$. To build such a structure, it will require a time of $O(n^{2})$.\n",
    "\n",
    "\n"
   ]
  },
  {
   "cell_type": "markdown",
   "id": "ffc18bbc-7f65-41e8-b890-73ece58c212c",
   "metadata": {},
   "source": [
    "#### Adjancey List"
   ]
  },
  {
   "cell_type": "markdown",
   "id": "d90be400-60be-4e7f-b800-56afa08a3364",
   "metadata": {},
   "source": [
    "Vertices are represented as objects, where each object contains data regarding the other nodes adjacent to it, therefore it will have a size of $n$ + $m$. To check wether an edge exists between two nodes is $O(n)$, and $O(n^{2})$ in the case that it is a complete graph. To build the list it takes a time complexity proportional to the number of connections/edges.\n"
   ]
  },
  {
   "cell_type": "markdown",
   "id": "d96f57b9-3e11-4cdd-9a18-a0ec49a858f9",
   "metadata": {},
   "source": [
    "For this problem, using an adjacency list seems to be most reasonable since we are dealing with an edge-weighted undirected graph that is not complete. Therefore the cost to build the graph $m$, to search is $O(n)$ and it has a space complexity of $n$ + $m$."
   ]
  },
  {
   "cell_type": "markdown",
   "id": "e653409a-df81-48fb-95be-44ca94b2a40c",
   "metadata": {},
   "source": [
    "## Construction of the Adjacency List For This Particular Problem"
   ]
  },
  {
   "cell_type": "markdown",
   "id": "977b9376-7690-4854-bd20-8124fe00e557",
   "metadata": {},
   "source": [
    "We used a hashmap/dictionary in order to represent the list. The keys represent all the nodes $n$, and the values for each key is the data."
   ]
  },
  {
   "cell_type": "code",
   "execution_count": 5,
   "id": "8426bd28-f664-4159-a11d-132c5eab6a4b",
   "metadata": {},
   "outputs": [],
   "source": [
    "# adj_list = {\n",
    "#     station_1 : {...},\n",
    "#     station_2: {...}\n",
    "#     .\n",
    "#     .\n",
    "#     .\n",
    "# }"
   ]
  },
  {
   "cell_type": "markdown",
   "id": "1000c139-7c57-44fa-be0d-da91556c7620",
   "metadata": {},
   "source": [
    "The data is represented as a hashmap, where the keys are the adjacent nodes to the respective key in the adjacency list."
   ]
  },
  {
   "cell_type": "code",
   "execution_count": 16,
   "id": "1e6f7d49-fcd8-4d76-8185-1a0f3e904d52",
   "metadata": {},
   "outputs": [],
   "source": [
    "# station_1:{\n",
    "#     station_2:\n",
    "#     {...},\n",
    "#     staion_5:{...}\n",
    "#     }\n",
    "#     .\n",
    "#     .\n",
    "#     .\n",
    "# }"
   ]
  },
  {
   "cell_type": "markdown",
   "id": "6daf35f9-5293-4b39-a918-5ee18a58813f",
   "metadata": {},
   "source": [
    "The value of the adjacent nodes is a hashmap that represents the time it takes to go from station to the other. We could sort the keys of the time dictionary in order to get the lowest time.\n"
   ]
  },
  {
   "cell_type": "code",
   "execution_count": 13,
   "id": "13c958ef-d90f-4a30-b802-700d2a9132e6",
   "metadata": {},
   "outputs": [],
   "source": [
    "# time:{\n",
    "#     1:[line1, line2],\n",
    "#     3:[line4]\n",
    "# }"
   ]
  },
  {
   "cell_type": "markdown",
   "id": "38847f93-7733-41cb-acf8-fdd96f358a66",
   "metadata": {},
   "source": [
    "The values of the time is an array of the different lines connect the two stations."
   ]
  },
  {
   "cell_type": "code",
   "execution_count": 18,
   "id": "e4633864-01da-44b6-8546-7a21e591fc23",
   "metadata": {},
   "outputs": [],
   "source": [
    "# adj_list = {\n",
    "#     station_1:{\n",
    "#         station_2:{\n",
    "#             \"time\":{\n",
    "#                 1:[line1, line2],\n",
    "#                 3:[line4]\n",
    "#             }\n",
    "#         }\n",
    "#     },\n",
    "#     station_2:{...}\n",
    "#     .\n",
    "#     .\n",
    "#     .\n",
    "# }"
   ]
  },
  {
   "cell_type": "markdown",
   "id": "64cd110b-dbc2-4287-b107-eeea642c44ec",
   "metadata": {},
   "source": [
    "## What is the shortest path?"
   ]
  },
  {
   "cell_type": "markdown",
   "id": "2ff1709e-ef76-4060-91f1-98ee17a1b637",
   "metadata": {},
   "source": [
    "*Priority in decreasing order*"
   ]
  },
  {
   "cell_type": "markdown",
   "id": "82360da0-3586-4995-98bf-76265ba6cd61",
   "metadata": {},
   "source": [
    "#1 : Least amount of time needed to go from one station to the other"
   ]
  },
  {
   "cell_type": "markdown",
   "id": "af8f9a59-2d83-4e76-bc37-8b03eb006b79",
   "metadata": {},
   "source": [
    "#2 : If there are multiple paths with the least amount of time, we consider the shortest path to be the one with the least number of lines needed to get to the destination."
   ]
  },
  {
   "cell_type": "markdown",
   "id": "777c3636-253e-47ae-951e-b92402afe82b",
   "metadata": {},
   "source": [
    "## How do we find the shortest path"
   ]
  },
  {
   "cell_type": "markdown",
   "id": "00f53f18-27b9-4ff1-8307-ac38f6cf499a",
   "metadata": {},
   "source": [
    "#### Dijkstra’s algorithm"
   ]
  },
  {
   "cell_type": "code",
   "execution_count": null,
   "id": "484b16c5-e60a-48a3-915c-e29d8359de33",
   "metadata": {},
   "outputs": [],
   "source": []
  },
  {
   "cell_type": "markdown",
   "id": "321bcf00-9ff0-4625-95ad-1119c27c7c71",
   "metadata": {},
   "source": [
    "#### A* Algorithm"
   ]
  },
  {
   "cell_type": "code",
   "execution_count": null,
   "id": "cffac928-e710-41c3-8cce-a4eb1d6a3b2e",
   "metadata": {},
   "outputs": [],
   "source": []
  }
 ],
 "metadata": {
  "kernelspec": {
   "display_name": "Python 3 (ipykernel)",
   "language": "python",
   "name": "python3"
  },
  "language_info": {
   "codemirror_mode": {
    "name": "ipython",
    "version": 3
   },
   "file_extension": ".py",
   "mimetype": "text/x-python",
   "name": "python",
   "nbconvert_exporter": "python",
   "pygments_lexer": "ipython3",
   "version": "3.10.4"
  }
 },
 "nbformat": 4,
 "nbformat_minor": 5
}
